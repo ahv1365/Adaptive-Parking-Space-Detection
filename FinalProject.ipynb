{
 "cells": [
  {
   "cell_type": "code",
   "execution_count": 1,
   "metadata": {},
   "outputs": [
    {
     "name": "stderr",
     "output_type": "stream",
     "text": [
      "Using TensorFlow backend.\n"
     ]
    }
   ],
   "source": [
    "import os\n",
    "import numpy as np\n",
    "import cv2\n",
    "import mrcnn.config\n",
    "import mrcnn.utils\n",
    "from mrcnn.model import MaskRCNN\n",
    "from pathlib import Path\n",
    "\n",
    "os.environ['KMP_DUPLICATE_LIB_OK']='True'"
   ]
  },
  {
   "cell_type": "code",
   "execution_count": 2,
   "metadata": {},
   "outputs": [],
   "source": [
    "\n",
    "# Configuration that will be used by the Mask-RCNN library\n",
    "class MaskRCNNConfig(mrcnn.config.Config):\n",
    "    NAME = \"coco_pretrained_model_config\"\n",
    "    IMAGES_PER_GPU = 1\n",
    "    GPU_COUNT = 1\n",
    "    NUM_CLASSES = 1 + 80  # COCO dataset has 80 classes + one background class\n",
    "    DETECTION_MIN_CONFIDENCE = 0.6"
   ]
  },
  {
   "cell_type": "code",
   "execution_count": 3,
   "metadata": {},
   "outputs": [],
   "source": [
    "\n",
    "# Filter a list of Mask R-CNN detection results to get only the detected cars / trucks\n",
    "def get_car_boxes(boxes, class_ids):\n",
    "    car_boxes = []\n",
    "\n",
    "    for i, box in enumerate(boxes):\n",
    "        # If the detected object isn't a car / truck / bus, skip it\n",
    "        if class_ids[i] in [3, 8, 6]:\n",
    "            car_boxes.append(box)\n",
    "\n",
    "    return np.array(car_boxes)\n"
   ]
  },
  {
   "cell_type": "code",
   "execution_count": 5,
   "metadata": {},
   "outputs": [],
   "source": [
    "\n",
    "# Root directory of the project\n",
    "ROOT_DIR = Path(\".\")\n"
   ]
  },
  {
   "cell_type": "code",
   "execution_count": 6,
   "metadata": {},
   "outputs": [],
   "source": [
    "\n",
    "# Directory to save logs and trained model\n",
    "MODEL_DIR = os.path.join(ROOT_DIR, \"logs\")\n",
    "\n"
   ]
  },
  {
   "cell_type": "code",
   "execution_count": 7,
   "metadata": {},
   "outputs": [],
   "source": [
    "# Local path to trained weights file\n",
    "COCO_MODEL_PATH = os.path.join(ROOT_DIR, \"mask_rcnn_coco.h5\")"
   ]
  },
  {
   "cell_type": "code",
   "execution_count": 8,
   "metadata": {},
   "outputs": [],
   "source": [
    "\n",
    "# Download COCO trained weights from Releases if needed\n",
    "if not os.path.exists(COCO_MODEL_PATH):\n",
    "    mrcnn.utils.download_trained_weights(COCO_MODEL_PATH)"
   ]
  },
  {
   "cell_type": "code",
   "execution_count": 9,
   "metadata": {},
   "outputs": [],
   "source": [
    "# Directory of images to run detection on\n",
    "IMAGE_DIR = os.path.join(ROOT_DIR, \"images\")"
   ]
  },
  {
   "cell_type": "code",
   "execution_count": 10,
   "metadata": {},
   "outputs": [],
   "source": [
    "# Video file or camera to process - set this to 0 to use your webcam instead of a video file\n",
    "VIDEO_SOURCE = \"5.mp4\""
   ]
  },
  {
   "cell_type": "code",
   "execution_count": 11,
   "metadata": {},
   "outputs": [
    {
     "name": "stdout",
     "output_type": "stream",
     "text": [
      "WARNING:tensorflow:From /anaconda3/envs/newMRCNN/lib/python3.6/site-packages/tensorflow/python/framework/op_def_library.py:263: colocate_with (from tensorflow.python.framework.ops) is deprecated and will be removed in a future version.\n",
      "Instructions for updating:\n",
      "Colocations handled automatically by placer.\n",
      "WARNING:tensorflow:From /Users/amir/Mask_RCNN/samples/mrcnn/model.py:772: to_float (from tensorflow.python.ops.math_ops) is deprecated and will be removed in a future version.\n",
      "Instructions for updating:\n",
      "Use tf.cast instead.\n"
     ]
    }
   ],
   "source": [
    "\n",
    "# Create a Mask-RCNN model in inference mode\n",
    "model = MaskRCNN(mode=\"inference\", model_dir=MODEL_DIR, config=MaskRCNNConfig())"
   ]
  },
  {
   "cell_type": "code",
   "execution_count": 12,
   "metadata": {},
   "outputs": [],
   "source": [
    "# Load pre-trained model\n",
    "model.load_weights(COCO_MODEL_PATH, by_name=True)"
   ]
  },
  {
   "cell_type": "code",
   "execution_count": 13,
   "metadata": {},
   "outputs": [],
   "source": [
    "# Location of parking spaces\n",
    "parked_car_boxes = None"
   ]
  },
  {
   "cell_type": "code",
   "execution_count": 14,
   "metadata": {},
   "outputs": [],
   "source": [
    "# Load the video file we want to run detection on\n",
    "video_capture = cv2.VideoCapture(VIDEO_SOURCE)"
   ]
  },
  {
   "cell_type": "code",
   "execution_count": 15,
   "metadata": {},
   "outputs": [],
   "source": [
    "# How many frames of video we've seen in a row with a parking space open\n",
    "free_space_frames = 0"
   ]
  },
  {
   "cell_type": "code",
   "execution_count": 18,
   "metadata": {},
   "outputs": [
    {
     "name": "stdout",
     "output_type": "stream",
     "text": [
      "Counter({3: 28, 8: 8, 9: 1})\n",
      "Counter({3: 29, 8: 8, 9: 1})\n",
      "Counter({3: 29, 8: 8, 9: 1})\n",
      "Counter({3: 28, 8: 8, 9: 1})\n",
      "Counter({3: 28, 8: 7, 9: 1})\n",
      "Counter({3: 29, 8: 7, 9: 1})\n",
      "Counter({3: 28, 8: 7, 9: 1})\n",
      "Counter({3: 28, 8: 7, 9: 1})\n",
      "Counter({3: 29, 8: 7, 9: 1})\n",
      "Counter({3: 28, 8: 7, 9: 1})\n",
      "Counter({3: 28, 8: 7, 9: 1})\n",
      "Counter({3: 28, 8: 7, 9: 1})\n",
      "Counter({3: 28, 8: 7, 9: 1})\n",
      "Counter({3: 28, 8: 7, 9: 1})\n",
      "Counter({3: 28, 8: 7, 9: 1})\n",
      "Counter({3: 28, 8: 7, 9: 1})\n",
      "Counter({3: 29, 8: 7, 9: 1})\n",
      "Counter({3: 30, 8: 6, 9: 1})\n",
      "Counter({3: 30, 8: 6, 9: 1})\n",
      "Counter({3: 30, 8: 6, 5: 1, 9: 1})\n",
      "Counter({3: 30, 8: 6, 5: 1})\n",
      "Counter({3: 30, 8: 6, 5: 1, 9: 1})\n",
      "Counter({3: 30, 8: 6, 9: 1, 5: 1})\n",
      "Counter({3: 30, 8: 6, 9: 1})\n",
      "Counter({3: 31, 8: 6, 9: 1})\n",
      "Counter({3: 31, 8: 6, 9: 1})\n",
      "Counter({3: 31, 8: 6, 9: 1})\n",
      "Counter({3: 31, 8: 6, 9: 1})\n",
      "Counter({3: 31, 8: 6, 9: 1})\n"
     ]
    },
   
